{
 "cells": [
  {
   "cell_type": "markdown",
   "metadata": {
    "collapsed": true
   },
   "source": [
    "# Ultimate Challenge Part 3 Report\n",
    "\n",
    "Tamara Monge"
   ]
  },
  {
   "cell_type": "markdown",
   "metadata": {
    "slideshow": {
     "slide_type": "slide"
    }
   },
   "source": [
    "\n",
    "**Objective: ** The objective of this part of the challenge is to identify which factors predict rider retention. "
   ]
  },
  {
   "cell_type": "markdown",
   "metadata": {},
   "source": [
    "** Client: ** The client is the transportation network company, Ultimate. "
   ]
  },
  {
   "cell_type": "markdown",
   "metadata": {},
   "source": [
    "** Data Wrangling steps:** \n",
    "The data came as a json file which allowed it to be read in as a dictionary and converted to a pandas dataframe.  Datetime variables were set to datetime objects. The index of the dataframe was set as the `signup_date.`  For missing values of `avg_rating_by_driver` and `avg_rating_of_driver`, the average ratings were imputed. For missing values of the `phone` variable, a new class, `unknown`, was created and imputed."
   ]
  },
  {
   "cell_type": "markdown",
   "metadata": {},
   "source": [
    "** Feature Engineering: ** A feature `retained` was created to indicate whether or not a user will be active in their 6th month on the system. Another feature `signup_dow` was created to indicate the day of the week the account was registered."
   ]
  },
  {
   "cell_type": "markdown",
   "metadata": {},
   "source": [
    "** Exploratory Data Analysis: **\n",
    "Approximately 1% of users (494 out of 50000) adopted (figure below). ![title](figures\\retained_users.png) \n",
    "\n",
    "Inspection of some of the explanatory variables revealed that `city`, `phone`, `signup_dow`, and `ultimate_black_user` may be  meaningful predictors of whether a user would be retained (figures below). ![title](figures\\retained_users_by_city.png) ![title](figures\\retained_users_by_phone.png) ![title](figures\\retained_users_by_signup_dow.png) ![title](figures\\retained_users_by_ultimate_black.png)"
   ]
  },
  {
   "cell_type": "markdown",
   "metadata": {},
   "source": [
    "** Supervised Classification: ** I treated this is a supervised classification problem with `retained` as the target variable and the other features as the predictive variables. \n",
    "\n",
    "I decided to go with a tree-based classifier for two reasons: 1) they do well with imbalanced classes, such as our dataset, and 2) they do well with a large number of features, such as our dataset. I selected the random forest because it is less prone to overfitting than the decision tree and feature importances can still be extracted. \n",
    "\n",
    "I split the data for training and testing using a 70%-30% random split. \n",
    "\n",
    "The model was fit on the training set. It was then tested on the test set to evaluate its performance on unseen data. "
   ]
  },
  {
   "cell_type": "markdown",
   "metadata": {},
   "source": [
    "** Results:** On unseen data, the random forest model predicted which users will be active in their 6th month on the system with 99% accuracy. At first glance, this appears to be excellent performance. However, it is worth pointing out that simply guessing that 0% of users will be retained produces the same level of accuracy. \n",
    "\n",
    "The 10 factors that best predict user retention are shown below: \n",
    "\n",
    "Feature | Importance\n",
    ":---|:---:\n",
    "avg_dist | 0.354\n",
    "weekday_pct|0.123\n",
    "avg_rating_of_driver | 0.090\n",
    "avg_rating_by_driver | 0.072\n",
    "avg_surge | 0.071\n",
    "trips_in_first_30_days | 0.061\n",
    "surge_pct | 0.060\n",
    "city_WINTERFELL | 0.026\n",
    "signup_dow_SATURDAY | 0.020\n",
    "signup_dow_THURSDAY | 0.018"
   ]
  },
  {
   "cell_type": "markdown",
   "metadata": {},
   "source": [
    "** Client recommendation: **\n",
    "To improve long-term rider retention:\n",
    "\n",
    "1. Invest in **training for drivers** and **incentivize drivers to seek high ratings.**\n",
    "2. Focus marketing attention on users who **travel a long average distance in their first 30 days**, **take the majority of their trips during weekdays**, and/or **are given low ratings by drivers.**"
   ]
  },
  {
   "cell_type": "markdown",
   "metadata": {},
   "source": [
    "---------\n",
    "__Copyright 2018 Tamara Monge__"
   ]
  }
 ],
 "metadata": {
  "kernelspec": {
   "display_name": "Python 3",
   "language": "python",
   "name": "python3"
  },
  "language_info": {
   "codemirror_mode": {
    "name": "ipython",
    "version": 3
   },
   "file_extension": ".py",
   "mimetype": "text/x-python",
   "name": "python",
   "nbconvert_exporter": "python",
   "pygments_lexer": "ipython3",
   "version": "3.6.1"
  }
 },
 "nbformat": 4,
 "nbformat_minor": 2
}
