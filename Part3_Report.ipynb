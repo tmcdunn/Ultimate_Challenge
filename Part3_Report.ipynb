{
 "cells": [
  {
   "cell_type": "markdown",
   "metadata": {
    "collapsed": true
   },
   "source": [
    "# Ultimate Challenge Part 3 Report\n",
    "\n",
    "Tamara Monge"
   ]
  },
  {
   "cell_type": "markdown",
   "metadata": {
    "slideshow": {
     "slide_type": "slide"
    }
   },
   "source": [
    "\n",
    "**Objective: ** The objective of this part of the challenge is to identify which factors predict rider retention. "
   ]
  },
  {
   "cell_type": "markdown",
   "metadata": {},
   "source": [
    "** Client: ** The client is the transportation network company, Ultimate. "
   ]
  },
  {
   "cell_type": "markdown",
   "metadata": {},
   "source": [
    "** Data Wrangling steps:** \n",
    "The data came as a json file which allowed it to be read in as a dictionary and converted to a pandas dataframe.  Datetime variables were set to datetime objects. The index of the dataframe was set as the `signup_date.`  For missing values of `avg_rating_by_driver` and `avg_rating_of_driver`, the average ratings were imputed. For missing values of the `phone` variable, a new class, `unknown`, was created and imputed."
   ]
  },
  {
   "cell_type": "markdown",
   "metadata": {},
   "source": [
    "** Feature Engineering: ** A feature `retained` was created to indicate whether or not a user will be active in their 6th month on the system. Another feature `signup_dow` was created to indicate the day of the week the account was registered."
   ]
  },
  {
   "cell_type": "markdown",
   "metadata": {},
   "source": [
    "** Exploratory Data Analysis: **\n",
    "Approximately 38% of users (18804 out of 50000) were retained in their 6th month on the system (figure below). ![title](figures/retained_users.png) \n",
    "\n",
    "Visual and statistical inspection of some of the explanatory variables revealed that `city`, `phone`, `signup_dow`, and `ultimate_black_user` may be  meaningful predictors of whether a user would be retained (figures below). ![title](figures/retained_users_by_city.png) ![title](figures/retained_users_by_phone.png) ![title](figures/retained_users_by_signup_dow.png) ![title](figures/retained_users_by_ultimate_black.png)"
   ]
  },
  {
   "cell_type": "markdown",
   "metadata": {},
   "source": [
    "** Supervised Classification: ** I treated this is a supervised classification problem with `retained` as the target variable and the other features as the predictive variables. \n",
    "\n",
    "I decided to go with a tree-based classifier for two reasons: 1) they do well with imbalanced classes, such as our dataset, and 2) they do well with a large number of features, such as our dataset. I selected the random forest because it is less prone to overfitting than the decision tree and feature importances can still be extracted. \n",
    "\n",
    "I split the data for training and testing using a 70%-30% random split. \n",
    "\n",
    "The model was fit on the training set. It was then tested on the test set to evaluate its performance on unseen data. "
   ]
  },
  {
   "cell_type": "markdown",
   "metadata": {},
   "source": [
    "** Results:** On unseen data, the random forest model predicted which users will be active in their 6th month on the system with 75% accuracy. This is a meaningful improvement over simply guessing that zero users will be retained, which would give an accuracy of 62%. Moreover, 78% of the users the model predicts will not be retained are in fact lost and 85% of the users that are lost are captured by the model. This means that the model will provide useful information for the \"customer-retention\" team at Ultimate. It will tell the team which users they should target for user-retention marketing efforts. \n",
    "\n",
    "The 5 factors that best predict user retention are shown below: \n",
    "\n",
    "Feature | Importance\n",
    ":---|:---:\n",
    "avg_dist | 0.238\n",
    "weekday_pct|0.132\n",
    "avg_rating_by_driver | 0.115\n",
    "surge_pct | 0.085\n",
    "avg_rating_of_driver | 0.081"
   ]
  },
  {
   "cell_type": "markdown",
   "metadata": {},
   "source": [
    "** Client recommendation: **\n",
    "To improve long-term rider retention:\n",
    "\n",
    "1. Focus marketing attention on users who travel a long average distance in their first 30 days, take the majority of their trips during the weekdays, take the majority of their trips during surge pricing, and/or are given low ratings by drivers.\n",
    "2. Consider offering **occassional reductions to surge pricing for very active users**. One example might be to offer a no-surge coupon to users after their 5th trip, or after their 5th month of activity. \n",
    "3. Invest in **training for drivers,** and **incentivize drivers to seek high ratings**. "
   ]
  },
  {
   "cell_type": "markdown",
   "metadata": {},
   "source": [
    "---------\n",
    "__Copyright 2018 Tamara Monge__"
   ]
  }
 ],
 "metadata": {
  "kernelspec": {
   "display_name": "Python 3",
   "language": "python",
   "name": "python3"
  },
  "language_info": {
   "codemirror_mode": {
    "name": "ipython",
    "version": 3
   },
   "file_extension": ".py",
   "mimetype": "text/x-python",
   "name": "python",
   "nbconvert_exporter": "python",
   "pygments_lexer": "ipython3",
   "version": "3.6.3"
  }
 },
 "nbformat": 4,
 "nbformat_minor": 2
}
