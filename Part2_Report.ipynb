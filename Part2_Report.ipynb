{
 "cells": [
  {
   "cell_type": "markdown",
   "metadata": {
    "collapsed": true
   },
   "source": [
    "# Ultimate Challenge Part 2 Report\n",
    "\n",
    "Tamara Monge"
   ]
  },
  {
   "cell_type": "markdown",
   "metadata": {
    "slideshow": {
     "slide_type": "slide"
    }
   },
   "source": [
    "\n",
    "**1. What would you choose as the key measure of success for this experiment in encouraging driver partners to serve both cities, and why?: ** I would choose the Difference in Means as the key metric of success (my test statistic).  I would select this because it will indicate if two populations (A and B, described below) have equal distributions."
   ]
  },
  {
   "cell_type": "markdown",
   "metadata": {},
   "source": [
    "**2. Describe a practical experiment you would design to compare the effectiveness of the proposed change in relation to the key measure of success: ** I will implement an A/B Splitting Test to test the hypothesis that two populations of weekend drivers have equal distribution of ridership from each city. Population A will consist of a random 50% subset of weekend drivers, who will continue operation as normal. Population B will consist of the other 50% of weekend drivers, who will operate with toll reimbursement. As stated above, the test statistic for this test will be the Difference in Means. For this experiment, $H_0$ is that the Difference in Means is impervious to the change in strategy (reimbursment of toll costs). \n",
    "\n",
    "I will use permutation sampling (a random reordering of array entries) to conduct my statistical test. The $p$-value of the test statistic will indicate the probability of obtaining a test statistic value that is at least as extreme as that observed, under the assumption the null hypothesis is true. \n",
    "\n",
    "I will use the $p$-value to interpret the significance of the test statistic. If the $p$-value < 0.01, then I will report to the city operations teams that the observed difference in the means is significant with a 99% confidence interval. Moreover, if the observed difference is an amount that is practically significant (which I will determine by consulting with the operations teams), I will recommend to the city that they implement the toll reimbursement strategy, with the caveat that it was tested only for weekends when the activity in both cities is similar. \n"
   ]
  },
  {
   "cell_type": "markdown",
   "metadata": {},
   "source": [
    "---------\n",
    "__Copyright 2018 Tamara Monge__"
   ]
  }
 ],
 "metadata": {
  "kernelspec": {
   "display_name": "Python 3",
   "language": "python",
   "name": "python3"
  },
  "language_info": {
   "codemirror_mode": {
    "name": "ipython",
    "version": 3
   },
   "file_extension": ".py",
   "mimetype": "text/x-python",
   "name": "python",
   "nbconvert_exporter": "python",
   "pygments_lexer": "ipython3",
   "version": "3.6.1"
  }
 },
 "nbformat": 4,
 "nbformat_minor": 2
}
