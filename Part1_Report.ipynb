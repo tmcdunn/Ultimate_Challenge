{
 "cells": [
  {
   "cell_type": "markdown",
   "metadata": {},
   "source": [
    "## Ultimate Challenge Part 1 Report\n",
    "\n",
    "Tamara Monge"
   ]
  },
  {
   "cell_type": "markdown",
   "metadata": {},
   "source": [
    "**Objective:** The objective of this part of the challenge is to aggregate login counts based on 15-minute time intervals and visualize and describe underlying patterns of the demand."
   ]
  },
  {
   "cell_type": "markdown",
   "metadata": {},
   "source": [
    "**Client:** The client of this part of the challenge is the transportation network company, Ultimate."
   ]
  },
  {
   "cell_type": "markdown",
   "metadata": {},
   "source": [
    "**Dataset:**  The provided dataset contains simulated timestamps of user logins for a given location."
   ]
  },
  {
   "cell_type": "markdown",
   "metadata": {},
   "source": [
    "**Data Wrangling steps**: The data came as a json file which allowed it to be imported as a pandas dataframe. There were no missing values. The `login_timestamp` was set to a datetime object and then set as the index of the dataframe.\n",
    "\n",
    "One data quality issue that came up was the year of the timestamps, which was given as 1970. This seems inaccurate; however, since the data was simulated it is not of much concern."
   ]
  },
  {
   "cell_type": "markdown",
   "metadata": {},
   "source": [
    "** Results:** The login counts based on 15-minute time intervals is shown below. Also shown in this figure are the daily, weekly, and monthly moving averages. ![title](..\figures\moving_average_n_logins.png)\n",
    "\n",
    "The daily decomposition of the timeseries (below) reveals a **clear diurnal cycle** (3rd frame). It also shows additional cycling at longer intervals (2nd frame). ![title](..\figures\daily_decomposition.png)\n",
    "\n",
    "The weekly decomposition of the timeseries (below) reveals a **clear weekly cycle** (3rd frame). It also shows an **upward trend over time** (2nd frame). ![title](..\figures\weekly_decomposition.png)"
   ]
  }
 ],
 "metadata": {
  "kernelspec": {
   "display_name": "Python 3",
   "language": "python",
   "name": "python3"
  },
  "language_info": {
   "codemirror_mode": {
    "name": "ipython",
    "version": 3
   },
   "file_extension": ".py",
   "mimetype": "text/x-python",
   "name": "python",
   "nbconvert_exporter": "python",
   "pygments_lexer": "ipython3",
   "version": "3.6.3"
  }
 },
 "nbformat": 4,
 "nbformat_minor": 2
}
